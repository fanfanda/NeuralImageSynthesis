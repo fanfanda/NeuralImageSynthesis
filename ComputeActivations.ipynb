{
 "cells": [
  {
   "cell_type": "code",
   "execution_count": 1,
   "metadata": {},
   "outputs": [],
   "source": [
    "require 'torch';\n",
    "require 'nn';\n",
    "require 'loadcaffe';\n",
    "require 'hdf5';"
   ]
  },
  {
   "cell_type": "code",
   "execution_count": 2,
   "metadata": {},
   "outputs": [],
   "source": [
    "params = {caffe_model = '/home/fanfanda/style_transfer/fanfanda_neuralImages/NeuralImageSynthesis/Models/VGG_ILSVRC_19_layers_conv.caffemodel', \n",
    "    images = '/home/fanfanda/style_transfer/fanfanda_neuralImages/NeuralImageSynthesis/Tmp/images.hdf5',\n",
    "    layers = 'relu1_1,relu2_1,relu3_1,relu4_1,relu5_1',\n",
    "    gpu = 0, backend = 'cudnn', \n",
    "    output_file = '/home/fanfanda/style_transfer/fanfanda_neuralImages/NeuralImageSynthesis/Tmp/activations.hdf5'}"
   ]
  },
  {
   "cell_type": "code",
   "execution_count": 3,
   "metadata": {},
   "outputs": [],
   "source": [
    "-- 初始化gpu参数\n",
    "paths.dofile('Misc.lua')\n",
    "-- Set gpu mode\n",
    "if params.gpu >= 0 then\n",
    "    require 'cutorch'\n",
    "    require 'cunn'\n",
    "    cutorch.setDevice(params.gpu + 1)\n",
    "else\n",
    "    params.backend = 'nn'\n",
    "end\n",
    "if params.backend == 'cudnn' then\n",
    "    require 'cudnn'\n",
    "    cudnn.SpatialConvolution.accGradParameters = nn.SpatialConvolutionMM.accGradParameters -- ie: nop\n",
    "end"
   ]
  },
  {
   "cell_type": "code",
   "execution_count": 4,
   "metadata": {},
   "outputs": [
    {
     "data": {
      "text/plain": [
       "Successfully loaded /home/fanfanda/style_transfer/fanfanda_neuralImages/NeuralImageSynthesis/Models/VGG_ILSVRC_19_layers_conv.caffemodel\n"
      ]
     },
     "execution_count": 4,
     "metadata": {},
     "output_type": "execute_result"
    },
    {
     "data": {
      "text/plain": [
       "conv1_1: 64 3 3 3\n",
       "conv1_2: 64 64 3 3\n",
       "conv2_1: 128 64 3 3\n",
       "conv2_2: 128 128 3 3\n"
      ]
     },
     "execution_count": 4,
     "metadata": {},
     "output_type": "execute_result"
    },
    {
     "data": {
      "text/plain": [
       "conv3_1: 256 128 3 3\n"
      ]
     },
     "execution_count": 4,
     "metadata": {},
     "output_type": "execute_result"
    },
    {
     "data": {
      "text/plain": [
       "conv3_2: 256 256 3 3\n"
      ]
     },
     "execution_count": 4,
     "metadata": {},
     "output_type": "execute_result"
    },
    {
     "data": {
      "text/plain": [
       "conv3_3: 256 256 3 3\n"
      ]
     },
     "execution_count": 4,
     "metadata": {},
     "output_type": "execute_result"
    },
    {
     "data": {
      "text/plain": [
       "conv3_4: 256 256 3 3\n"
      ]
     },
     "execution_count": 4,
     "metadata": {},
     "output_type": "execute_result"
    },
    {
     "data": {
      "text/plain": [
       "conv4_1: 512 256 3 3\n"
      ]
     },
     "execution_count": 4,
     "metadata": {},
     "output_type": "execute_result"
    },
    {
     "data": {
      "text/plain": [
       "conv4_2: 512 512 3 3\n"
      ]
     },
     "execution_count": 4,
     "metadata": {},
     "output_type": "execute_result"
    },
    {
     "data": {
      "text/plain": [
       "conv4_3: 512 512 3 3\n"
      ]
     },
     "execution_count": 4,
     "metadata": {},
     "output_type": "execute_result"
    },
    {
     "data": {
      "text/plain": [
       "conv4_4: 512 512 3 3\n"
      ]
     },
     "execution_count": 4,
     "metadata": {},
     "output_type": "execute_result"
    },
    {
     "data": {
      "text/plain": [
       "conv5_1: 512 512 3 3\n"
      ]
     },
     "execution_count": 4,
     "metadata": {},
     "output_type": "execute_result"
    },
    {
     "data": {
      "text/plain": [
       "conv5_2: 512 512 3 3\n"
      ]
     },
     "execution_count": 4,
     "metadata": {},
     "output_type": "execute_result"
    },
    {
     "data": {
      "text/plain": [
       "conv5_3: 512 512 3 3\n"
      ]
     },
     "execution_count": 4,
     "metadata": {},
     "output_type": "execute_result"
    },
    {
     "data": {
      "text/plain": [
       "conv5_4: 512 512 3 3\n"
      ]
     },
     "execution_count": 4,
     "metadata": {},
     "output_type": "execute_result"
    }
   ],
   "source": [
    "-- Load network from caffemodel\n",
    "loadcaffe_backend = params.backend\n",
    "cnn = loadcaffe.load('network', params.caffe_model, params.backend):float()\n",
    "cnn = set_datatype(cnn, params.gpu)\n",
    "\n",
    "-- Load images\n",
    "local f = hdf5.open(params.images, 'r')\n",
    "images = f:all()['images']\n",
    "f:close()\n",
    "images = set_datatype(images, params.gpu)"
   ]
  },
  {
   "cell_type": "code",
   "execution_count": 5,
   "metadata": {},
   "outputs": [
    {
     "data": {
      "text/plain": [
       "   3\n",
       " 412\n",
       " 637\n",
       "[torch.LongStorage of size 3]\n",
       "\n"
      ]
     },
     "execution_count": 5,
     "metadata": {},
     "output_type": "execute_result"
    }
   ],
   "source": [
    "#images"
   ]
  },
  {
   "cell_type": "code",
   "execution_count": 5,
   "metadata": {},
   "outputs": [
    {
     "data": {
      "text/plain": [
       "{\n",
       "  1 : relu1_1\n",
       "  2 : relu2_1\n",
       "  3 : relu3_1\n",
       "  4 : relu4_1\n",
       "  5 : relu5_1\n",
       "}\n"
      ]
     },
     "execution_count": 5,
     "metadata": {},
     "output_type": "execute_result"
    }
   ],
   "source": [
    "params.layers:split(\",\")"
   ]
  },
  {
   "cell_type": "code",
   "execution_count": 7,
   "metadata": {},
   "outputs": [],
   "source": [
    "-- Set up new network only using necessary layers \n",
    "net = nn.Sequential()\n",
    "layers = nil \n",
    "if params.layers == 'all' then\n",
    "    net = cnn:clone()\n",
    "    if params.reflectance then\n",
    "        print('Warning, no reflectance padding for layers \"all\"')\n",
    "    end\n",
    "else\n",
    "    layers = params.layers:split(\",\")\n",
    "    local next_layer_ndx = 1\n",
    "    for i = 1, #cnn do\n",
    "        if next_layer_ndx <= length(layers) then\n",
    "            local layer = cnn:get(i)\n",
    "            local layer_name = layer.name\n",
    "            local is_convolution = (layer_type == 'cudnn.SpatialConvolution' or layer_type == 'nn.SpatialConvolution')\n",
    "            if is_convolution and params.reflectance then\n",
    "                local padW, padH = layer.padW, layer.padH\n",
    "                local pad_layer = nn.SpatialReflectionPadding(padW, padW, padH, padH)\n",
    "                pad_layer = set_datatype(pad_layer, params.gpu)\n",
    "                net:add(pad_layer)\n",
    "                layer.padW = 0\n",
    "                layer.padH = 0\n",
    "            end\n",
    "            net:add(layer)\n",
    "            if layer_name == layers[next_layer_ndx] then\n",
    "                next_layer_ndx = next_layer_ndx + 1\n",
    "            end\n",
    "        end\n",
    "    end\n",
    "end\n",
    "cnn = nil\n",
    "collectgarbage()"
   ]
  },
  {
   "cell_type": "code",
   "execution_count": 11,
   "metadata": {},
   "outputs": [],
   "source": [
    "-- Pass images through the network\n",
    "net:forward(images)\n",
    "\n",
    "local f = hdf5.open(params.output_file, 'w')\n",
    "if params.layers == 'all' then\n",
    "    for i = 1, #net do\n",
    "        local layer = net:get(i)\n",
    "        local layer_name = layer.name\n",
    "        local layer_type = torch.type(layer)\n",
    "        f:write(layer_name, layer.output:double())\n",
    "    end\n",
    "else\n",
    "    next_layer_ndx = 1\n",
    "    if 'data'  == layers[next_layer_ndx] then\n",
    "        f:write('data', images:double())\n",
    "        next_layer_ndx = next_layer_ndx + 1\n",
    "    end\n",
    "    for i = 1, #net do\n",
    "        if next_layer_ndx <= length(layers) then\n",
    "            local layer = net:get(i)\n",
    "            local layer_name = layer.name\n",
    "            local layer_type = torch.type(layer)\n",
    "            if layer_name == layers[next_layer_ndx] then\n",
    "                f:write(layer_name, layer.output:double())\n",
    "                next_layer_ndx = next_layer_ndx + 1\n",
    "            end\n",
    "        end\n",
    "    end\n",
    "end\n",
    "f:close()"
   ]
  },
  {
   "cell_type": "code",
   "execution_count": 6,
   "metadata": {},
   "outputs": [
    {
     "data": {
      "text/plain": [
       "1\tconv1_1\t\n",
       "2\trelu1_1\t\n",
       "3\tconv1_2\t\n",
       "4\trelu1_2\t\n",
       "5\tpool1\t\n",
       "6\tconv2_1\t\n",
       "7\trelu2_1\t\n",
       "8\tconv2_2\t\n",
       "9\trelu2_2\t\n",
       "10\tpool2\t\n",
       "11\tconv3_1\t\n",
       "12\trelu3_1\t\n",
       "13\tconv3_2\t\n",
       "14\trelu3_2\t\n",
       "15\tconv3_3\t\n",
       "16\trelu3_3\t\n",
       "17\tconv3_4\t\n",
       "18\trelu3_4\t\n",
       "19\tpool3\t\n",
       "20\tconv4_1\t\n",
       "21\trelu4_1\t\n",
       "22\tconv4_2\t\n",
       "23\trelu4_2\t\n",
       "24\tconv4_3\t\n",
       "25\trelu4_3\t\n",
       "26\tconv4_4\t\n",
       "27\trelu4_4\t\n",
       "28\tpool4\t\n",
       "29\tconv5_1\t\n",
       "30\trelu5_1\t\n",
       "31\tconv5_2\t\n",
       "32\trelu5_2\t\n",
       "33\tconv5_3\t\n",
       "34\trelu5_3\t\n",
       "35\tconv5_4\t\n",
       "36\trelu5_4\t\n",
       "37\tpool5\t\n"
      ]
     },
     "execution_count": 6,
     "metadata": {},
     "output_type": "execute_result"
    }
   ],
   "source": [
    "for i = 1, #cnn do\n",
    "    local layer = cnn:get(i)\n",
    "    local layer_name = layer.name\n",
    "    print(i, layer.name)\n",
    "end"
   ]
  },
  {
   "cell_type": "code",
   "execution_count": 8,
   "metadata": {},
   "outputs": [
    {
     "data": {
      "text/plain": [
       "1\tconv1_1\t\n",
       "2\trelu1_1\t\n",
       "3\tconv1_2\t\n",
       "4\trelu1_2\t\n",
       "5\tpool1\t\n",
       "6\tconv2_1\t\n",
       "7\trelu2_1\t\n",
       "8\tconv2_2\t\n",
       "9\trelu2_2\t\n",
       "10\tpool2\t\n",
       "11\tconv3_1\t\n",
       "12\trelu3_1\t\n",
       "13\tconv3_2\t\n",
       "14\trelu3_2\t\n",
       "15\tconv3_3\t\n",
       "16\trelu3_3\t\n",
       "17\tconv3_4\t\n",
       "18\trelu3_4\t\n",
       "19\tpool3\t\n",
       "20\tconv4_1\t\n",
       "21\trelu4_1\t\n",
       "22\tconv4_2\t\n",
       "23\trelu4_2\t\n",
       "24\tconv4_3\t\n",
       "25\trelu4_3\t\n",
       "26\tconv4_4\t\n",
       "27\trelu4_4\t\n",
       "28\tpool4\t\n",
       "29\tconv5_1\t\n",
       "30\trelu5_1\t\n"
      ]
     },
     "execution_count": 8,
     "metadata": {},
     "output_type": "execute_result"
    }
   ],
   "source": [
    "for i = 1, #net do\n",
    "    local layer = net:get(i)\n",
    "    local layer_name = layer.name\n",
    "    print(i, layer.name)\n",
    "end"
   ]
  },
  {
   "cell_type": "code",
   "execution_count": null,
   "metadata": {},
   "outputs": [],
   "source": []
  }
 ],
 "metadata": {
  "kernelspec": {
   "display_name": "iTorch",
   "language": "lua",
   "name": "itorch"
  },
  "language_info": {
   "name": "lua",
   "version": "5.1"
  }
 },
 "nbformat": 4,
 "nbformat_minor": 2
}
